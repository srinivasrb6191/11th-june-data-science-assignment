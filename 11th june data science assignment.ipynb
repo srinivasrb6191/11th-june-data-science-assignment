{
 "cells": [
  {
   "cell_type": "markdown",
   "id": "434f3e83",
   "metadata": {},
   "source": [
    "##### 1. What is a lambda function in Python, and how does it differ from a regular function?\n",
    "Ans. Lambda function/expression is a small, inline, and anonymous function that can have any number of arguments but can only have one expression.\n",
    "\n",
    "Lambda function is different from a regular function-\n",
    "Lambda functions are anonymous, meaning they don't have a name like regular functions defined with the def keyword. They are defined and used in a single line without a name.It can only contain a single expression, which is evaluated and returned when the lambda function is called. In contrast, regular functions can contain multiple statements and have a more complex structure.\n",
    "\n",
    "2.Can a lambda function in Python have multiple arguments? If yes, how can you define and use them?\n",
    "Ans. Yes, a lambda function in Python can have multiple arguments.\n",
    "\n",
    "Here's an example with multiple arguments:"
   ]
  },
  {
   "cell_type": "code",
   "execution_count": 1,
   "id": "9a380c83",
   "metadata": {},
   "outputs": [
    {
     "name": "stdout",
     "output_type": "stream",
     "text": [
      "24\n"
     ]
    }
   ],
   "source": [
    "multiply = lambda x, y, z: x * y * z\n",
    "\n",
    "result = multiply(2, 3, 4)\n",
    "print(result)\n"
   ]
  },
  {
   "cell_type": "markdown",
   "id": "4311171f",
   "metadata": {},
   "source": [
    "##### 3.How are lambda functions typically used in Python? Provide an example use case.\n",
    "Ans. Lambda functions in Python are often used for short, simple operations where a full function definition using the def keyword might be unnecessarily verbose. They are commonly employed in situations where a small, anonymous function is required for a short period of time."
   ]
  },
  {
   "cell_type": "code",
   "execution_count": 2,
   "id": "9b760962",
   "metadata": {},
   "outputs": [
    {
     "name": "stdout",
     "output_type": "stream",
     "text": [
      "[(4, 1), (2, 2), (1, 4), (3, 6)]\n"
     ]
    }
   ],
   "source": [
    "# Using lambda with sorted to sort a list of tuples based on the second element\n",
    "pairs = [(1, 4), (2, 2), (3, 6), (4, 1)]\n",
    "sorted_pairs = sorted(pairs, key=lambda x: x[1])\n",
    "\n",
    "print(sorted_pairs)"
   ]
  },
  {
   "cell_type": "markdown",
   "id": "6e1ec0d9",
   "metadata": {},
   "source": [
    "###### 4. What are the advantages and limitations of lambda functions compared to regular functions in Python?\n",
    "Ans. Advantages of Lambda Functions:\n",
    "\n",
    "1.Lambda functions are concise and can be defined in a single line. This makes them useful for short, simple operations\n",
    "\n",
    "2.Lambda functions can be more readable in situations where the function logic is straightforward, and the use of a lambda function is idiomatic and well-understood by the reader.\n",
    "\n",
    "3.Lambda functions are often used in functional programming constructs like map(), filter(), and sorted(). They are a natural fit for these scenarios where a simple, anonymous function is needed.\n",
    "\n",
    "Limitations of Lambda Functions:\n",
    "\n",
    "1.Lambda functions are limited in terms of functionality compared to regular functions.\n",
    "\n",
    "2.Lambda functions don't support docstrings, making it more challenging to provide documentation for the function's purpose and usage.\n",
    "\n",
    "3.For more complex operations, lambda functions may reduce code readability."
   ]
  },
  {
   "cell_type": "markdown",
   "id": "0c84b5e0",
   "metadata": {},
   "source": [
    "###### 5.Are lambda functions in Python able to access variables defined outside of their own scope? Explain with an example.\n",
    "Ans. Yes, lambda functions in Python can access variables defined outside of their own scope. This is because lambda functions have access to the variables in the enclosing scope in which they are defined. This behavior is known as lexical scoping."
   ]
  },
  {
   "cell_type": "code",
   "execution_count": 3,
   "id": "b92b07a1",
   "metadata": {},
   "outputs": [
    {
     "name": "stdout",
     "output_type": "stream",
     "text": [
      "15\n"
     ]
    }
   ],
   "source": [
    "# Variable defined in the outer scope\n",
    "outside_variable = 10\n",
    "\n",
    "# Lambda function accessing the outside_variable\n",
    "lambda_function = lambda x: x + outside_variable\n",
    "\n",
    "# Using the lambda function\n",
    "result = lambda_function(5)\n",
    "\n",
    "# Printing the result\n",
    "print(result)"
   ]
  },
  {
   "cell_type": "markdown",
   "id": "2cc8b235",
   "metadata": {},
   "source": [
    "#### 6. Write a lambda function to calculate the square of a given number."
   ]
  },
  {
   "cell_type": "code",
   "execution_count": 4,
   "id": "1199e752",
   "metadata": {},
   "outputs": [],
   "source": [
    "square = lambda x: x**2"
   ]
  },
  {
   "cell_type": "code",
   "execution_count": 5,
   "id": "e9e2c988",
   "metadata": {},
   "outputs": [
    {
     "name": "stdout",
     "output_type": "stream",
     "text": [
      "16\n"
     ]
    }
   ],
   "source": [
    "result = square(4)\n",
    "print(result)"
   ]
  },
  {
   "cell_type": "markdown",
   "id": "938c3885",
   "metadata": {},
   "source": [
    "#### 7. Create a lambda function to find the maximum value in a list of integers."
   ]
  },
  {
   "cell_type": "code",
   "execution_count": 6,
   "id": "dcc4e943",
   "metadata": {},
   "outputs": [],
   "source": [
    "find_max = lambda lst: max(lst)"
   ]
  },
  {
   "cell_type": "code",
   "execution_count": 7,
   "id": "2c87b69b",
   "metadata": {},
   "outputs": [
    {
     "name": "stdout",
     "output_type": "stream",
     "text": [
      "8\n"
     ]
    }
   ],
   "source": [
    "numbers = [3, 7, 2, 8, 5]\n",
    "max_value = find_max(numbers)\n",
    "print(max_value)"
   ]
  },
  {
   "cell_type": "markdown",
   "id": "1ba258af",
   "metadata": {},
   "source": [
    "#### 8. Implement a lambda function to filter out all the even numbers from a list of integers."
   ]
  },
  {
   "cell_type": "code",
   "execution_count": 8,
   "id": "89360e1f",
   "metadata": {},
   "outputs": [
    {
     "name": "stdout",
     "output_type": "stream",
     "text": [
      "[1, 3, 5, 7, 9]\n"
     ]
    }
   ],
   "source": [
    "numbers = [1, 2, 3, 4, 5, 6, 7, 8, 9, 10]\n",
    "\n",
    "filter_even = lambda x: x % 2 != 0\n",
    "filtered_numbers = list(filter(filter_even, numbers))\n",
    "\n",
    "print(filtered_numbers)"
   ]
  },
  {
   "cell_type": "markdown",
   "id": "f7437b99",
   "metadata": {},
   "source": [
    "#### 9.Write a lambda function to sort a list of strings in ascending order based on the length of each string."
   ]
  },
  {
   "cell_type": "code",
   "execution_count": 9,
   "id": "8d15b080",
   "metadata": {},
   "outputs": [
    {
     "name": "stdout",
     "output_type": "stream",
     "text": [
      "['kiwi', 'apple', 'grape', 'banana', 'orange']\n"
     ]
    }
   ],
   "source": [
    "strings = [\"apple\",\"banana\",\"kiwi\",\"orange\",\"grape\"]\n",
    "\n",
    "sort_by_length = lambda s: len(s)\n",
    "\n",
    "sorted_strings = sorted(strings,key = sort_by_length)\n",
    "print(sorted_strings)"
   ]
  },
  {
   "cell_type": "markdown",
   "id": "9823d4c9",
   "metadata": {},
   "source": [
    "#### 10. Create a lambda function that takes two lists as input and returns a new list containing the common elements between the two lists."
   ]
  },
  {
   "cell_type": "code",
   "execution_count": 10,
   "id": "f0f8576d",
   "metadata": {},
   "outputs": [
    {
     "name": "stdout",
     "output_type": "stream",
     "text": [
      "[3, 4, 5]\n"
     ]
    }
   ],
   "source": [
    "list1 = [1,2,3,4,5]\n",
    "list2 = [3,4,5,6,7]\n",
    "\n",
    "common_elements = lambda x, y: list(filter(lambda e1: e1 in x, y))\n",
    "\n",
    "result = common_elements(list1, list2)\n",
    "\n",
    "print(result)"
   ]
  },
  {
   "cell_type": "markdown",
   "id": "e242f8fc",
   "metadata": {},
   "source": [
    "#### 11. Write a recursive function to calculate the factorial of a given positive integer."
   ]
  },
  {
   "cell_type": "code",
   "execution_count": 11,
   "id": "e2cd5bad",
   "metadata": {},
   "outputs": [
    {
     "name": "stdout",
     "output_type": "stream",
     "text": [
      "Factorial of 5:  120\n"
     ]
    }
   ],
   "source": [
    "def factorial(n):\n",
    "    \n",
    "    if n <= 1:\n",
    "        return 1\n",
    "    else:\n",
    "        return n * factorial(n-1)\n",
    "    \n",
    "result = factorial(5)\n",
    "print(\"Factorial of 5: \",result)"
   ]
  },
  {
   "cell_type": "markdown",
   "id": "3033f895",
   "metadata": {},
   "source": [
    "##### 12. Implement a recursive function to compute the nth Fibonacci number."
   ]
  },
  {
   "cell_type": "code",
   "execution_count": 12,
   "id": "122059a3",
   "metadata": {},
   "outputs": [
    {
     "name": "stdout",
     "output_type": "stream",
     "text": [
      "5th Fibonacci number 13\n"
     ]
    }
   ],
   "source": [
    "def fibonacci(n):\n",
    "    \n",
    "    if n == 0:\n",
    "        return 0\n",
    "    elif n == 1:\n",
    "        return 1\n",
    "    else:\n",
    "        return fibonacci(n-1) + fibonacci(n-2)\n",
    "    \n",
    "result = fibonacci(7)\n",
    "print(\"5th Fibonacci number\",result)"
   ]
  },
  {
   "cell_type": "code",
   "execution_count": 13,
   "id": "c54268ae",
   "metadata": {},
   "outputs": [
    {
     "name": "stdout",
     "output_type": "stream",
     "text": [
      "Sum of the elements in the list 15\n"
     ]
    }
   ],
   "source": [
    "##13. Create a recursive function to find the sum of all the elements in a given list.\n",
    "def sum_list(lst):\n",
    "    if not lst:\n",
    "        return 0\n",
    "    else:\n",
    "        return lst[0] + sum_list(lst[1:])\n",
    "    \n",
    "my_list = [1,2,3,4,5]\n",
    "result = sum_list(my_list)\n",
    "print(\"Sum of the elements in the list\",result)"
   ]
  },
  {
   "cell_type": "code",
   "execution_count": 15,
   "id": "3166f526",
   "metadata": {},
   "outputs": [
    {
     "name": "stdout",
     "output_type": "stream",
     "text": [
      "Is'madam' a palindrome? True\n"
     ]
    }
   ],
   "source": [
    "##14.Write a recursive function to determine whether a given string is a palindrome.\n",
    "def palindrome(s):\n",
    "    if len(s) <= 1:\n",
    "        return True\n",
    "    else:\n",
    "        return s[0] == s[-1] and palindrome(s[1:-1])\n",
    "\n",
    "my_string = \"madam\"\n",
    "result = palindrome(my_string)\n",
    "print(f\"Is'{my_string}' a palindrome? {result}\")"
   ]
  },
  {
   "cell_type": "code",
   "execution_count": 16,
   "id": "dfb1c480",
   "metadata": {},
   "outputs": [
    {
     "name": "stdout",
     "output_type": "stream",
     "text": [
      "GCD of 10 and 5 is: 5\n"
     ]
    }
   ],
   "source": [
    "##15. Implement a recursive function to find the greatest common divisor (GCD) of two positive integers.\n",
    "def gcd(a,b):\n",
    "    \n",
    "    if b == 0:\n",
    "        return a\n",
    "    else:\n",
    "        return gcd(b, a%b)\n",
    "\n",
    "num1 = 10\n",
    "num2 = 5\n",
    "result = gcd(num1,num2)\n",
    "print(f\"GCD of {num1} and {num2} is:\",result)"
   ]
  },
  {
   "cell_type": "code",
   "execution_count": null,
   "id": "c4ecbebe",
   "metadata": {},
   "outputs": [],
   "source": []
  }
 ],
 "metadata": {
  "kernelspec": {
   "display_name": "Python 3 (ipykernel)",
   "language": "python",
   "name": "python3"
  },
  "language_info": {
   "codemirror_mode": {
    "name": "ipython",
    "version": 3
   },
   "file_extension": ".py",
   "mimetype": "text/x-python",
   "name": "python",
   "nbconvert_exporter": "python",
   "pygments_lexer": "ipython3",
   "version": "3.10.9"
  }
 },
 "nbformat": 4,
 "nbformat_minor": 5
}
